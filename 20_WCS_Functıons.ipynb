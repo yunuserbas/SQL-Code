{
  "nbformat": 4,
  "nbformat_minor": 0,
  "metadata": {
    "colab": {
      "provenance": [],
      "authorship_tag": "ABX9TyMrkd0rW9ZHDnrETLi3J3s/",
      "include_colab_link": true
    },
    "kernelspec": {
      "name": "python3",
      "display_name": "Python 3"
    },
    "language_info": {
      "name": "python"
    }
  },
  "cells": [
    {
      "cell_type": "markdown",
      "metadata": {
        "id": "view-in-github",
        "colab_type": "text"
      },
      "source": [
        "<a href=\"https://colab.research.google.com/github/yunuserbas/SQL-Code/blob/master/20_WCS_Funct%C4%B1ons.ipynb\" target=\"_parent\"><img src=\"https://colab.research.google.com/assets/colab-badge.svg\" alt=\"Open In Colab\"/></a>"
      ]
    },
    {
      "cell_type": "markdown",
      "source": [
        "# Help for statisticians!\n",
        "\n",
        "Your fellow statisticians need you. They want to learn how to program in Python and have tons of calculations to do.\n",
        "\n",
        "Very kindly, you agree to help them. Complete the missions below.\n"
      ],
      "metadata": {
        "id": "KnCRoaJsam0c"
      }
    },
    {
      "cell_type": "markdown",
      "source": [
        "### For all functions below, please add an extra cell where you actually call the function on at least two different inputs and displays the returned value (if the function doesn't already display stuff)."
      ],
      "metadata": {
        "id": "T2tLNq1eas38"
      }
    },
    {
      "cell_type": "code",
      "source": [
        "# Mission 9: Create a function that takes a day as a parameter and returns the next day (i.e. for Sunday it would return Monday). \n",
        "# You can use lists or dictionaries to solve this.\n",
        "\n",
        "def days(day):\n",
        "  week = [\"Monday\", \"Tuesday\", \"Wednasday\", \"Thursday\", \"Friday\", \"Saturday\", \"Sunday\"]\n",
        "  if day in week and day != \"Sunday\":\n",
        "    day1 = week.index(day) + 1\n",
        "    return week[day1]\n",
        "  elif day == \"Sunday\":\n",
        "    return \"Monday\"\n",
        "print(days(str(input())))"
      ],
      "metadata": {
        "colab": {
          "base_uri": "https://localhost:8080/"
        },
        "id": "R6WAdDo8av9j",
        "outputId": "981fb711-89ec-49e9-e3e0-98e8a49f5bbd"
      },
      "execution_count": 1,
      "outputs": [
        {
          "output_type": "stream",
          "name": "stdout",
          "text": [
            "Thursday\n",
            "Friday\n"
          ]
        }
      ]
    },
    {
      "cell_type": "code",
      "source": [
        "# Mission 10: Create a function that fills an empty list with values (words) from the following string : \n",
        "# \"After twelve soft showers are the arch-duchess' socks dry, arch-dry?\"\n",
        "\n",
        "def myliste(words):\n",
        "  liste = [ ]\n",
        "  liste1 = words.split()\n",
        "  liste.append(liste1)\n",
        "  \n",
        "  return liste\n",
        "\n",
        "print(myliste(str(input())))"
      ],
      "metadata": {
        "colab": {
          "base_uri": "https://localhost:8080/"
        },
        "id": "4APrK537a7lT",
        "outputId": "d4bc4a10-d3aa-4301-8b99-4d7a6c845582"
      },
      "execution_count": 3,
      "outputs": [
        {
          "output_type": "stream",
          "name": "stdout",
          "text": [
            "After twelve soft showers are the arch-duchess' socks dry, arch-dry?\n",
            "[['After', 'twelve', 'soft', 'showers', 'are', 'the', \"arch-duchess'\", 'socks', 'dry,', 'arch-dry?']]\n"
          ]
        }
      ]
    },
    {
      "cell_type": "code",
      "source": [
        "# Mission 11: Create a function that takes a string as a parameter, and returns the same string, where every other letter\n",
        "# is written in uppercase, unless it's a consonant.\n",
        "# Example: antithetical -> AntithEtIcAl\n",
        "# Example: marvelously -> marvElOuslY\n",
        "\n",
        "def majiscule(word):\n",
        "  newWord = \" \"\n",
        "  \n",
        "  for vowels in word:\n",
        "    if vowels not in \"aeiouAEIOUY\" :\n",
        "      newWord = newWord + vowels.lower()\n",
        "    else:\n",
        "      newWord = newWord + vowels.upper()\n",
        "  return newWord\n",
        "\n",
        "print(majiscule(str(input())))"
      ],
      "metadata": {
        "colab": {
          "base_uri": "https://localhost:8080/"
        },
        "id": "TQQmC-0MbGKF",
        "outputId": "5b893451-0308-4ca2-fd80-baac21e0402b"
      },
      "execution_count": 4,
      "outputs": [
        {
          "output_type": "stream",
          "name": "stdout",
          "text": [
            "Hello World\n",
            " hEllO wOrld\n"
          ]
        }
      ]
    },
    {
      "cell_type": "code",
      "source": [
        "# Mission 12: Create a function that takes a number n as parameter, and then returns a list containing n lists, each containing n empty lists. \n",
        "\n",
        "def myFunction(n):\n",
        "  list = []\n",
        "  y = [[[]]*n]*n\n",
        "  list.append(y)\n",
        "  return list\n",
        "\n",
        "print(myFunction(int(input())))\n"
      ],
      "metadata": {
        "colab": {
          "base_uri": "https://localhost:8080/"
        },
        "id": "-mlLFaAhbPAr",
        "outputId": "646831bc-365a-445c-c0d6-d0804fc7d7fe"
      },
      "execution_count": 5,
      "outputs": [
        {
          "output_type": "stream",
          "name": "stdout",
          "text": [
            "4\n",
            "[[[[], [], [], []], [[], [], [], []], [[], [], [], []], [[], [], [], []]]]\n"
          ]
        }
      ]
    },
    {
      "cell_type": "code",
      "source": [
        "# Mission 13: Create a function that takes two inputs, their year of birth and first name.\n",
        "# Convert the year of birth into an int and subtract it from the current year (you can do it using a certain module :-P).\n",
        "# Then display the message: Hello [first name], today you are (or you will be this year) [age] years old.\n",
        "# When testing the function, ask the user for the parameters!\n",
        "\n",
        "from datetime import date\n",
        "def myFunction(year, name):\n",
        "  age = date.today().year - year\n",
        "  return (f\"Hello {name}, today you are {age} years old.\")\n",
        "\n",
        "year = int(input())\n",
        "name = str(input())\n",
        "\n",
        "print(myFunction(year, name))"
      ],
      "metadata": {
        "colab": {
          "base_uri": "https://localhost:8080/"
        },
        "id": "QA33O1hLbTq2",
        "outputId": "6c663dc4-cf8e-4f54-a96d-1496c4b21e60"
      },
      "execution_count": 6,
      "outputs": [
        {
          "output_type": "stream",
          "name": "stdout",
          "text": [
            "1995\n",
            "Yunus\n",
            "Hello Yunus, today you are 27 years old.\n"
          ]
        }
      ]
    }
  ]
}